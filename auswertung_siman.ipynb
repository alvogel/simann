{
 "cells": [
  {
   "cell_type": "markdown",
   "id": "9a282b44",
   "metadata": {},
   "source": [
    "# Auswertung der fav Dateien\n",
    "Erstellung der Graphen: \n",
    "- Prob density Ergebnislänge in Abh. des Fliptyps für einen cooling parameter\n",
    "- Prob density Ergebnislänge in Abh. des cooling parameters je fliptype\n",
    "- Prob density der Zeit des Erreichens der optimalen Länge in Abh. zum cooling parameter je fliptype"
   ]
  },
  {
   "cell_type": "code",
   "execution_count": 1,
   "id": "c7a51784",
   "metadata": {},
   "outputs": [],
   "source": [
    "##### Ließt Dateien\n",
    "import json\n",
    "\n",
    "filename = \"fav_revert_part_c0.85_breakp_0.01_starting_temp_70.json\"\n",
    "\n",
    "fav_data = []\n",
    "\n",
    "flip_type = []\n",
    "\n",
    "for line in open(filename,\"r\"):\n",
    "    fav_data.append(json.loads(line))\n",
    "    flip_type.append(json.loads(line)[0])\n",
    "    \n",
    "#read.close()\n",
    "#print(flip_type)"
   ]
  },
  {
   "cell_type": "code",
   "execution_count": 2,
   "id": "8365a000",
   "metadata": {},
   "outputs": [],
   "source": [
    "#import matplotlib.pyplot as plt\n",
    "\n",
    "#for i in range(0,len(data)):\n",
    "#    plt.plot(steps[i],laenge[i],label=filename_array[i])\n",
    "\n",
    "#plt.xlabel(\"Zeitschritte\")\n",
    "#plt.ylabel(\"Länge\")\n",
    "#plt.legend()\n",
    "\n",
    "#plt.show\n",
    "#plt.savefig(\"Laufzeit-Laenge\",dpi = 1000)"
   ]
  },
  {
   "cell_type": "code",
   "execution_count": 10,
   "id": "30e1b0b2",
   "metadata": {},
   "outputs": [
    {
     "data": {
      "image/png": "[encoded data removed]",
      "text/plain": [
       "<Figure size 432x288 with 1 Axes>"
      ]
     },
     "metadata": {
      "needs_background": "light"
     },
     "output_type": "display_data"
    }
   ],
   "source": [
    "import matplotlib.pyplot as plt\n",
    "import numpy as np\n",
    "\n",
    "start = 4200\n",
    "end = 4600\n",
    "bins = 10\n",
    "bin_size = (end-start)/bins\n",
    "\n",
    "weg = np.linspace(start+(bin_size/2),end,bins)\n",
    "density = [0.0]*bins\n",
    "#density = list(np.float_(density))\n",
    "counts = [0]*bins\n",
    "\n",
    "for i in range(0, bins):\n",
    "    \n",
    "    range_start = start+(i*bin_size)\n",
    "    range_end = start+(i*bin_size)+bin_size\n",
    "    \n",
    "    for d in flip_type:\n",
    "        if range_start < d < range_end:\n",
    "            counts[i] += 1\n",
    "            \n",
    "            \n",
    "for i in range(0,len(density)):\n",
    "    density[i] =  float(counts[i] / (len(flip_type)*bin_size))\n",
    "        \n",
    "plt.title(\"Fliptype & Coolingparameter\")\n",
    "#plt.plot(weg, counts, linewidth=2.0)\n",
    "plt.plot(weg, density, linewidth=2.0)\n",
    "plt.ylabel('Wahrscheinlichkeitsdichte')\n",
    "plt.xlabel('Wegstrecke [km]');"
   ]
  },
  {
   "cell_type": "markdown",
   "id": "8e56e44c",
   "metadata": {},
   "source": [
    "# Auswertung der history Dateien\n",
    "Erstellung der Graphen:\n",
    "- Weglänge in Abhängigkeit der Zeit"
   ]
  },
  {
   "cell_type": "code",
   "execution_count": null,
   "id": "e1521928",
   "metadata": {},
   "outputs": [],
   "source": [
    "######Ließt dateien\n",
    "import json\n",
    "\n",
    "fileprefix_start = 0 #Um mehrere Dateien einzulesen -> Im Dateinamen ändert sich nur die erste Zahl -> diese ist der prefix\n",
    "fileprefix_end = 3\n",
    "filesufix = [\"_history_revert_part_c0.85_breakp_0.01_starting_temp_70.json\",\"_history_swap_random_c0.85_breakp_0.01_starting_temp_70.json\"]\n",
    "fliptypes = [\"revert_part\",\"swap_random\"]\n",
    "\n",
    "data = [] #hier werden alle Daten aller history dateien gespeichert\n",
    "filename_array = []\n",
    "\n",
    "for i in range(fileprefix_start,fileprefix_end):\n",
    "    for j in range(0,len(filesufix)):\n",
    "        filename = str(i) + filesufix[j]\n",
    "        read = open(filename,\"r\")\n",
    "        data.append(json.load(read))\n",
    "        filename_array.append(str(i)+\";\"+ fliptypes[j])\n",
    "\n",
    "read.close()  "
   ]
  },
  {
   "cell_type": "code",
   "execution_count": null,
   "id": "8b7679a4",
   "metadata": {},
   "outputs": [],
   "source": [
    "######speichert unterschiedliche Datenarten in untersch. Listen\n",
    "\n",
    "##Datenstruktur bisher:\n",
    "#Datenstruktur eines Eintrages: Länge, Temperatur, runtime, steps, path\n",
    "#Datenstruktur data: data[Nummer Durchlauf][Nummer des Eintrages des Durchlaufes für einen Zeitpunkt][Datenart im Eintrag]\n",
    "\n",
    "##Datenstruktur danach:\n",
    "#laenge[im Durchlauf][zum Zeitpunkt]\n",
    "\n",
    "laenge = []\n",
    "temperature = []\n",
    "runtime = []\n",
    "steps = []\n",
    "path = []\n",
    "\n",
    "for i in range(0,len(data)): #über Nummer des Durchlaufes\n",
    "    laenge_zeile = []\n",
    "    temperature_zeile = []\n",
    "    runtime_zeile = []\n",
    "    steps_zeile = []\n",
    "    path_zeile = []\n",
    "    for j in range(0,len(data[i])): #über versch. Zeitpunkte\n",
    "        laenge_zeile.append(data[i][j][0])\n",
    "        temperature_zeile.append(data[i][j][1])\n",
    "        runtime_zeile.append(data[i][j][2])\n",
    "        steps_zeile.append(data[i][j][3])\n",
    "        path_zeile.append(data[i][j][4])\n",
    "    laenge.append(laenge_zeile)\n",
    "    temperature.append(temperature_zeile)\n",
    "    runtime.append(runtime_zeile)\n",
    "    steps.append(steps_zeile)\n",
    "    path.append(path_zeile)"
   ]
  },
  {
   "cell_type": "code",
   "execution_count": null,
   "id": "527106e1",
   "metadata": {},
   "outputs": [],
   "source": [
    "import matplotlib.pyplot as plt\n",
    "\n",
    "for i in range(0,len(data)):\n",
    "    plt.plot(steps[i],laenge[i],label=filename_array[i])\n",
    "\n",
    "plt.xlabel(\"Zeitschritte\")\n",
    "plt.ylabel(\"Wegstrecke [km]\")\n",
    "plt.legend()\n",
    "\n",
    "plt.show\n",
    "plt.savefig(\"Laufzeit-Laenge\",dpi = 1000)"
   ]
  },
  {
   "cell_type": "code",
   "execution_count": null,
   "id": "f6c9c8b2",
   "metadata": {},
   "outputs": [],
   "source": []
  },
  {
   "cell_type": "code",
   "execution_count": null,
   "id": "ce6e23d3",
   "metadata": {},
   "outputs": [],
   "source": []
  },
  {
   "cell_type": "code",
   "execution_count": null,
   "id": "e9319617",
   "metadata": {},
   "outputs": [],
   "source": []
  }
 ],
 "metadata": {
  "kernelspec": {
   "display_name": "Python 3",
   "language": "python",
   "name": "python3"
  },
  "language_info": {
   "codemirror_mode": {
    "name": "ipython",
    "version": 3
   },
   "file_extension": ".py",
   "mimetype": "text/x-python",
   "name": "python",
   "nbconvert_exporter": "python",
   "pygments_lexer": "ipython3",
   "version": "3.8.8"
  }
 },
 "nbformat": 4,
 "nbformat_minor": 5
}
